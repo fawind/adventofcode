{
 "cells": [
  {
   "cell_type": "code",
   "execution_count": 1,
   "metadata": {},
   "outputs": [],
   "source": [
    "import math\n",
    "import itertools\n",
    "import collections\n",
    "\n",
    "def get_input(day):\n",
    "    filename = 'input/day{}.txt'.format(day)\n",
    "    with open(filename) as f:\n",
    "        return [line.strip() for line in f]"
   ]
  },
  {
   "cell_type": "markdown",
   "metadata": {},
   "source": [
    "# [Day 1: Inverse Captcha](http://adventofcode.com/2017/day/1)\n",
    "\n",
    "## Part I\n",
    "\n",
    "**Task:** Given a circular sequence of digits, find the sum of all digits that match the next digit in the list.\n",
    "\n",
    "**Examples**:\n",
    "* `1122` -> `3`\n",
    "* `91212129` -> `9`"
   ]
  },
  {
   "cell_type": "code",
   "execution_count": 2,
   "metadata": {},
   "outputs": [
    {
     "data": {
      "text/plain": [
       "1341"
      ]
     },
     "execution_count": 2,
     "metadata": {},
     "output_type": "execute_result"
    }
   ],
   "source": [
    "def solve_captcha(sequence):\n",
    "    total = 0\n",
    "    previous_number = sequence[-1]\n",
    "    for number in sequence:\n",
    "        if previous_number == number:\n",
    "            total += int(previous_number)\n",
    "        previous_number = number\n",
    "    return total\n",
    "\n",
    "day1_input = get_input(1)[0]\n",
    "solve_captcha(day1_input)"
   ]
  },
  {
   "cell_type": "markdown",
   "metadata": {},
   "source": [
    "## Part II\n",
    "\n",
    "Now, instead of considering the next digit, it wants you to consider the digit halfway around the circular list. That is, if your list contains 10 items, only include a digit in your sum if the digit 10/2 = 5 steps forward matches it. The list has an even number of elements.\n",
    "\n",
    "**Example:**\n",
    "\n",
    "* `1212` -> `6`\n",
    "* `123123` -> `12`"
   ]
  },
  {
   "cell_type": "code",
   "execution_count": 3,
   "metadata": {},
   "outputs": [
    {
     "data": {
      "text/plain": [
       "1348"
      ]
     },
     "execution_count": 3,
     "metadata": {},
     "output_type": "execute_result"
    }
   ],
   "source": [
    "def solve_halfway_captcha(sequence):\n",
    "    total = 0\n",
    "    for index in range(len(sequence) // 2):\n",
    "        first_num = int(sequence[index])\n",
    "        second_num = int(sequence[index + len(sequence) // 2])\n",
    "        if first_num == second_num:\n",
    "            total += first_num + second_num\n",
    "    return total    \n",
    "    \n",
    "solve_halfway_captcha(day1_input)"
   ]
  },
  {
   "cell_type": "markdown",
   "metadata": {},
   "source": [
    "# [Day 2 - Corruption Checksum](http://adventofcode.com/2017/day/2)\n",
    "\n",
    "## Part I\n",
    "\n",
    "**Task:** Given a spreadsheet of rows and numbers, calculate the spreadsheet's checksum. For each row, determine the difference between the largest value and the smallest value; the checksum is the sum of all of these differences.\n",
    "\n",
    "**Example:**\n",
    "```\n",
    "5 1 9 5\n",
    "7 5 3\n",
    "2 4 6 8\n",
    "```\n",
    "The checksum is `8 + 4 + 6 = 18`."
   ]
  },
  {
   "cell_type": "code",
   "execution_count": 4,
   "metadata": {},
   "outputs": [
    {
     "data": {
      "text/plain": [
       "50376"
      ]
     },
     "execution_count": 4,
     "metadata": {},
     "output_type": "execute_result"
    }
   ],
   "source": [
    "def calculate_checksum(spreadsheet):\n",
    "    return sum([max(row) - min(row) for row in spreadsheet])\n",
    "    \n",
    "def build_spreadsheet(rows):\n",
    "    return [list(map(int, row.split('\\t'))) for row in rows]\n",
    "    \n",
    "spreadsheet = build_spreadsheet(get_input(2))\n",
    "calculate_checksum(spreadsheet)"
   ]
  },
  {
   "cell_type": "markdown",
   "metadata": {},
   "source": [
    "## Part II\n",
    "\n",
    "Now, instead of calculating the difference between the max and min, the goal is to find the only two numbers in each row where one evenly divides the other - that is, where the result of the division operation is a whole number. Find those numbers on each line, divide them, and add up each line's result.\n",
    "\n",
    "**Example:**\n",
    "```\n",
    "5 9 2 8\n",
    "9 4 7 3\n",
    "3 8 6 5\n",
    "```\n",
    "The checksum is `4 + 3 + 2 = 9`."
   ]
  },
  {
   "cell_type": "code",
   "execution_count": 5,
   "metadata": {},
   "outputs": [
    {
     "data": {
      "text/plain": [
       "267"
      ]
     },
     "execution_count": 5,
     "metadata": {},
     "output_type": "execute_result"
    }
   ],
   "source": [
    "def calculate_division_checksum(spreadsheet):\n",
    "    total = 0\n",
    "    for row in spreadsheet:\n",
    "        total += [b // a for a, b in itertools.combinations(sorted(row), 2) if b % a == 0][0]\n",
    "    return total\n",
    "\n",
    "calculate_division_checksum(spreadsheet)"
   ]
  },
  {
   "cell_type": "markdown",
   "metadata": {},
   "source": [
    "# [Day 3: Spiral Memory](https://adventofcode.com/2017/day/3)\n",
    "\n",
    "## Part I\n",
    "\n",
    "**Task:** Given an infinite grid allcated in a spiral pattern starting at a location marked `1` and then counting up while spiraling outward. Compute the Manhattan Distance between a given location and square `1`.\n",
    "\n",
    "**Example:**\n",
    "```\n",
    "17  16  15  14  13\n",
    "18   5   4   3  12\n",
    "19   6   1   2  11\n",
    "20   7   8   9  10\n",
    "21  22  23---> ...\n",
    "```\n",
    "* Distance to square `12` is 3 steps.\n",
    "* Distance to square `23` is 2 steps.\n",
    "* Distance to square `1024` is 31 steps."
   ]
  },
  {
   "cell_type": "code",
   "execution_count": 6,
   "metadata": {},
   "outputs": [
    {
     "data": {
      "text/plain": [
       "326.0"
      ]
     },
     "execution_count": 6,
     "metadata": {},
     "output_type": "execute_result"
    }
   ],
   "source": [
    "def get_side_length(number):\n",
    "    nearest_odd_sq = math.ceil(math.sqrt(number))\n",
    "    nearest_odd_sq = nearest_odd_sq + 1 if nearest_odd_sq % 2 == 0 else nearest_odd_sq\n",
    "    return nearest_odd_sq\n",
    "\n",
    "def steps_to_num(side_length, number):\n",
    "    min_steps_to_num = side_length\n",
    "    nearest_odd_sq = side_length ** 2\n",
    "    for i in range(4):\n",
    "        side_mid_point = nearest_odd_sq - math.floor(side_length / 2) - (side_length - 1) * i\n",
    "        min_steps_to_num = min(min_steps_to_num, abs(side_mid_point - number))\n",
    "    return min_steps_to_num\n",
    "        \n",
    "def get_steps(number):\n",
    "    \"\"\"The level the number is in can be determined by finding the next perfect odd square.\n",
    "    The perfect odd square is always in the bottom right of each square (e.g. 9, 25, ...).\n",
    "    The side length is the base of the square. The middle points of a square are the points with the lowest distance from 1.\n",
    "    E.g. 2, 4, 6, and 8 for the 2nd layer. The distance to these middle points is (side length - 1) / 2.\n",
    "    Finally, we need to determine the distance from the middle points of a square to the number we are looking for.\n",
    "    \"\"\"\n",
    "    side_length = get_side_length(number)\n",
    "    steps_to_square = (side_length - 1) / 2\n",
    "    steps_from_square_to_num = steps_to_num(side_length, number)\n",
    "    return steps_to_square + steps_from_square_to_num\n",
    "\n",
    "day3_input = 361527\n",
    "get_steps(day3_input)"
   ]
  },
  {
   "cell_type": "markdown",
   "metadata": {},
   "source": [
    "## Part II\n",
    "\n",
    "Fill in numbers, starting at `1`, in the same spiral allocation order. Store the sum of all already written values in adjacent squares, including diagonals. Find the first value written that is larger than a given input.\n",
    "\n",
    "**Example:**\n",
    "* Square 1 starts with the value 1.\n",
    "* Square 2 has only one adjacent filled square (with value 1), so it also stores 1.\n",
    "* Square 3 has both of the above squares as neighbors and stores the sum of their values, 2.\n",
    "* Square 4 has all three of the aforementioned squares as neighbors and stores the sum of their values, 4.\n",
    "```\n",
    "147  142  133  122   59\n",
    "304    5    4    2   57\n",
    "330   10    1    1   54\n",
    "351   11   23   25   26\n",
    "362  747  806--->   ...\n",
    "```"
   ]
  },
  {
   "cell_type": "code",
   "execution_count": 7,
   "metadata": {},
   "outputs": [
    {
     "data": {
      "text/plain": [
       "363010"
      ]
     },
     "execution_count": 7,
     "metadata": {},
     "output_type": "execute_result"
    }
   ],
   "source": [
    "def spiral_generator():\n",
    "    \"\"\"Generate spiral coordinates.\n",
    "    Direction: right, up, left, down, ...\n",
    "    Step count: 1, 1, 2, 2, 3, 3, 4...\"\"\"\n",
    "    right = lambda pos: (pos[0] + 1, pos[1])\n",
    "    left = lambda pos: (pos[0] - 1, pos[1])\n",
    "    up = lambda pos: (pos[0], pos[1] + 1)\n",
    "    down = lambda pos: (pos[0], pos[1] - 1)\n",
    "    moves = itertools.cycle([right, up, left, down])\n",
    "    \n",
    "    position = (0, 0)\n",
    "    number_of_moves = 1\n",
    "    while True:\n",
    "        for _ in range(2):\n",
    "            move = next(moves)\n",
    "            for i in range(number_of_moves):\n",
    "                yield position\n",
    "                position = move(position)\n",
    "        number_of_moves += 1  \n",
    "    \n",
    "def get_neighbors(position, values):\n",
    "    x, y = position\n",
    "    positions = [(x+1, y), (x-1, y), (x, y+1), (x, y-1),\n",
    "                 (x+1, y+1), (x-1, y-1), (x+1, y-1), (x-1, y+1)]\n",
    "    return [values[p] if p in values else 0 for p in positions]\n",
    "    \n",
    "def find_in_sequence(number):\n",
    "    values = {}\n",
    "    for position in spiral_generator():\n",
    "        if position == (0, 0):\n",
    "            values[position] = 1\n",
    "            continue\n",
    "        neighbor_sum = sum(get_neighbors(position, values))\n",
    "        if neighbor_sum > number:\n",
    "            return neighbor_sum\n",
    "        values[position] = neighbor_sum\n",
    "        \n",
    "find_in_sequence(day3_input)"
   ]
  },
  {
   "cell_type": "markdown",
   "metadata": {},
   "source": [
    "# [Day 4: High-Entropy Passphrases](http://adventofcode.com/2017/day/4)\n",
    "\n",
    "## Part I\n",
    "\n",
    "Given a passphrase consisting of a series of words (lowercase letters) separated by spaces. A passphrase is valid if it does not contain duplicate words. Given a list of passphrases, return how many passphrases are valid.\n",
    "\n",
    "**Example:**\n",
    "* `aa bb cc dd ee` is valid.\n",
    "* `aa bb cc dd aa` is not valid"
   ]
  },
  {
   "cell_type": "code",
   "execution_count": 8,
   "metadata": {},
   "outputs": [
    {
     "data": {
      "text/plain": [
       "383"
      ]
     },
     "execution_count": 8,
     "metadata": {},
     "output_type": "execute_result"
    }
   ],
   "source": [
    "passphrases = get_input(4)\n",
    "\n",
    "def is_unique_passphrase(passphrase):\n",
    "    counter = collections.Counter(passphrase.split())\n",
    "    return counter.most_common(1)[0][1] == 1\n",
    "\n",
    "def count_unique_passphrases(passphrases):\n",
    "    count = 0\n",
    "    for passphrase in passphrases:\n",
    "        if is_unique_passphrase(passphrase):\n",
    "            count += 1\n",
    "    return count\n",
    "\n",
    "count_unique_passphrases(passphrases)"
   ]
  },
  {
   "cell_type": "markdown",
   "metadata": {},
   "source": [
    "## Part II\n",
    "\n",
    "Now, a valid passphrase must contain no two words that are anagrams of each other.\n",
    "\n",
    "**Example:**\n",
    "* `abcde fghij` is valid.\n",
    "* `abcde xyz ecdab` is not valid."
   ]
  },
  {
   "cell_type": "code",
   "execution_count": 9,
   "metadata": {},
   "outputs": [
    {
     "data": {
      "text/plain": [
       "265"
      ]
     },
     "execution_count": 9,
     "metadata": {},
     "output_type": "execute_result"
    }
   ],
   "source": [
    "def is_no_anagram_passphrase(passphrase):\n",
    "    words = set()\n",
    "    for word in passphrase.split():\n",
    "        sorted_word = ''.join(sorted(word))\n",
    "        if sorted_word in words:\n",
    "            return False\n",
    "        words.add(sorted_word)\n",
    "    return True\n",
    "\n",
    "def count_no_anagram_passphrases(passphrases):\n",
    "    count = 0\n",
    "    for passphrase in passphrases:\n",
    "        if is_no_anagram_passphrase(passphrase):\n",
    "            count += 1\n",
    "    return count\n",
    "\n",
    "count_no_anagram_passphrases(passphrases)"
   ]
  },
  {
   "cell_type": "markdown",
   "metadata": {},
   "source": [
    "# [Day 5: A Maze of Twisty Trampolines, All Alike](http://adventofcode.com/2017/day/5)\n",
    "\n",
    "## Part I\n",
    "\n",
    "Given a list of offsets for each jump, how many times can you jump until you jump out of the list? E.g. an offset of `2` means to two fields forward whereas an offset of `-3` means to move back three fields. After each jump, the offset is increased by `1`.\n",
    "\n",
    "**Example:**\n",
    "* List of offsets: `0, 3, 0, 1, -3`. The exist is reached after `5` steps. The offsets after the last iteration are `2, 5, 0, 1, -2`"
   ]
  },
  {
   "cell_type": "code",
   "execution_count": 10,
   "metadata": {},
   "outputs": [
    {
     "data": {
      "text/plain": [
       "355965"
      ]
     },
     "execution_count": 10,
     "metadata": {},
     "output_type": "execute_result"
    }
   ],
   "source": [
    "instructions = list(map(int, get_input(5)))\n",
    "\n",
    "def count_steps(instructions):\n",
    "    instructions = list(instructions)\n",
    "    index = 0\n",
    "    steps = 0\n",
    "    while index in range(len(instructions)):\n",
    "        next_index = index + instructions[index]\n",
    "        instructions[index] += 1\n",
    "        index = next_index\n",
    "        steps += 1\n",
    "    return steps\n",
    "\n",
    "count_steps(instructions)"
   ]
  },
  {
   "cell_type": "markdown",
   "metadata": {},
   "source": [
    "## Part II\n",
    "\n",
    "Now, after each jump, if the offset was three or more, decrease it by 1. Otherwise, increase it by 1 as before."
   ]
  },
  {
   "cell_type": "code",
   "execution_count": 11,
   "metadata": {},
   "outputs": [
    {
     "data": {
      "text/plain": [
       "26948068"
      ]
     },
     "execution_count": 11,
     "metadata": {},
     "output_type": "execute_result"
    }
   ],
   "source": [
    "def count_steps_with_offset(instructions):\n",
    "    instructions = list(instructions)\n",
    "    index = 0\n",
    "    steps = 0\n",
    "    while index in range(len(instructions)):\n",
    "        next_index = index + instructions[index]\n",
    "        if instructions[index] >= 3:\n",
    "            instructions[index] -= 1\n",
    "        else:\n",
    "            instructions[index] += 1\n",
    "        index = next_index\n",
    "        steps += 1\n",
    "    return steps\n",
    "\n",
    "count_steps_with_offset(instructions)"
   ]
  }
 ],
 "metadata": {
  "kernelspec": {
   "display_name": "Python 3",
   "language": "python",
   "name": "python3"
  },
  "language_info": {
   "codemirror_mode": {
    "name": "ipython",
    "version": 3
   },
   "file_extension": ".py",
   "mimetype": "text/x-python",
   "name": "python",
   "nbconvert_exporter": "python",
   "pygments_lexer": "ipython3",
   "version": "3.5.3"
  }
 },
 "nbformat": 4,
 "nbformat_minor": 2
}
