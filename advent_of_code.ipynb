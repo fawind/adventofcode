{
 "cells": [
  {
   "cell_type": "code",
   "execution_count": 1,
   "metadata": {},
   "outputs": [],
   "source": [
    "def get_input(day):\n",
    "    filename = 'input/day{}.txt'.format(day)\n",
    "    with open(filename) as f:\n",
    "        return [line.strip() for line in f]"
   ]
  },
  {
   "cell_type": "markdown",
   "metadata": {},
   "source": [
    "# [Day 1: Inverse Captcha](http://adventofcode.com/2017/day/1)\n",
    "\n",
    "**Task:** Given a circular sequence of digits, find the sum of all digits that match the next digit in the list.\n",
    "\n",
    "**Examples**:\n",
    "* `1122` -> `3`\n",
    "* `1111` -> `4`\n",
    "* `91212129` -> `9`"
   ]
  },
  {
   "cell_type": "code",
   "execution_count": 2,
   "metadata": {},
   "outputs": [
    {
     "data": {
      "text/plain": [
       "1341"
      ]
     },
     "execution_count": 2,
     "metadata": {},
     "output_type": "execute_result"
    }
   ],
   "source": [
    "def solve_captcha(sequence):\n",
    "    total = 0\n",
    "    previous_number = sequence[-1]\n",
    "    for number in sequence:\n",
    "        if previous_number == number:\n",
    "            total += int(previous_number)\n",
    "        previous_number = number\n",
    "    return total\n",
    "\n",
    "solve_captcha(get_input(1)[0])"
   ]
  },
  {
   "cell_type": "markdown",
   "metadata": {},
   "source": [
    "# [Day 2 - Corruption Checksum](http://adventofcode.com/2017/day/2)\n",
    "\n",
    "**Task:** Given a spreadsheet of rows and numbers, calculate the spreadsheet's checksum. For each row, determine the difference between the largest value and the smallest value; the checksum is the sum of all of these differences.\n",
    "\n",
    "**Example:**\n",
    "```\n",
    "5 1 9 5\n",
    "7 5 3\n",
    "2 4 6 8\n",
    "```\n",
    "The checksum is `8 + 4 + 6 = 18`."
   ]
  },
  {
   "cell_type": "code",
   "execution_count": 3,
   "metadata": {},
   "outputs": [
    {
     "data": {
      "text/plain": [
       "50376"
      ]
     },
     "execution_count": 3,
     "metadata": {},
     "output_type": "execute_result"
    }
   ],
   "source": [
    "def calculate_checksum(spreadsheet):\n",
    "    return sum([max(row) - min(row) for row in spreadsheet])\n",
    "    \n",
    "def build_spreadsheet(rows):\n",
    "    return [list(map(int, row.split('\\t'))) for row in rows]\n",
    "    \n",
    "calculate_checksum(build_spreadsheet(get_input(2)))"
   ]
  }
 ],
 "metadata": {
  "kernelspec": {
   "display_name": "Python 3",
   "language": "python",
   "name": "python3"
  },
  "language_info": {
   "codemirror_mode": {
    "name": "ipython",
    "version": 3
   },
   "file_extension": ".py",
   "mimetype": "text/x-python",
   "name": "python",
   "nbconvert_exporter": "python",
   "pygments_lexer": "ipython3",
   "version": "3.6.3"
  }
 },
 "nbformat": 4,
 "nbformat_minor": 2
}
