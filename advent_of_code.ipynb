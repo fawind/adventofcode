{
 "cells": [
  {
   "cell_type": "code",
   "execution_count": 1,
   "metadata": {},
   "outputs": [],
   "source": [
    "import itertools\n",
    "\n",
    "def get_input(day):\n",
    "    filename = 'input/day{}.txt'.format(day)\n",
    "    with open(filename) as f:\n",
    "        return [line.strip() for line in f]"
   ]
  },
  {
   "cell_type": "markdown",
   "metadata": {},
   "source": [
    "# [Day 1: Inverse Captcha](http://adventofcode.com/2017/day/1)\n",
    "\n",
    "## Part I\n",
    "\n",
    "**Task:** Given a circular sequence of digits, find the sum of all digits that match the next digit in the list.\n",
    "\n",
    "**Examples**:\n",
    "* `1122` -> `3`\n",
    "* `91212129` -> `9`"
   ]
  },
  {
   "cell_type": "code",
   "execution_count": 2,
   "metadata": {},
   "outputs": [
    {
     "data": {
      "text/plain": [
       "1341"
      ]
     },
     "execution_count": 2,
     "metadata": {},
     "output_type": "execute_result"
    }
   ],
   "source": [
    "def solve_captcha(sequence):\n",
    "    total = 0\n",
    "    previous_number = sequence[-1]\n",
    "    for number in sequence:\n",
    "        if previous_number == number:\n",
    "            total += int(previous_number)\n",
    "        previous_number = number\n",
    "    return total\n",
    "\n",
    "day1_input = get_input(1)[0]\n",
    "solve_captcha(day1_input)"
   ]
  },
  {
   "cell_type": "markdown",
   "metadata": {},
   "source": [
    "## Part II\n",
    "\n",
    "Now, instead of considering the next digit, it wants you to consider the digit halfway around the circular list. That is, if your list contains 10 items, only include a digit in your sum if the digit 10/2 = 5 steps forward matches it. The list has an even number of elements.\n",
    "\n",
    "**Example:**\n",
    "\n",
    "* `1212` -> `6`\n",
    "* `123123` -> `12`"
   ]
  },
  {
   "cell_type": "code",
   "execution_count": 3,
   "metadata": {},
   "outputs": [
    {
     "data": {
      "text/plain": [
       "1348"
      ]
     },
     "execution_count": 3,
     "metadata": {},
     "output_type": "execute_result"
    }
   ],
   "source": [
    "def solve_halfway_captcha(sequence):\n",
    "    total = 0\n",
    "    for index in range(len(sequence) // 2):\n",
    "        first_num = int(sequence[index])\n",
    "        second_num = int(sequence[index + len(sequence) // 2])\n",
    "        if first_num == second_num:\n",
    "            total += first_num + second_num\n",
    "    return total    \n",
    "    \n",
    "solve_halfway_captcha(day1_input)"
   ]
  },
  {
   "cell_type": "markdown",
   "metadata": {},
   "source": [
    "# [Day 2 - Corruption Checksum](http://adventofcode.com/2017/day/2)\n",
    "\n",
    "## Part I\n",
    "\n",
    "**Task:** Given a spreadsheet of rows and numbers, calculate the spreadsheet's checksum. For each row, determine the difference between the largest value and the smallest value; the checksum is the sum of all of these differences.\n",
    "\n",
    "**Example:**\n",
    "```\n",
    "5 1 9 5\n",
    "7 5 3\n",
    "2 4 6 8\n",
    "```\n",
    "The checksum is `8 + 4 + 6 = 18`."
   ]
  },
  {
   "cell_type": "code",
   "execution_count": 4,
   "metadata": {},
   "outputs": [
    {
     "data": {
      "text/plain": [
       "50376"
      ]
     },
     "execution_count": 4,
     "metadata": {},
     "output_type": "execute_result"
    }
   ],
   "source": [
    "def calculate_checksum(spreadsheet):\n",
    "    return sum([max(row) - min(row) for row in spreadsheet])\n",
    "    \n",
    "def build_spreadsheet(rows):\n",
    "    return [list(map(int, row.split('\\t'))) for row in rows]\n",
    "    \n",
    "spreadsheet = build_spreadsheet(get_input(2))\n",
    "calculate_checksum(spreadsheet)"
   ]
  },
  {
   "cell_type": "markdown",
   "metadata": {},
   "source": [
    "## Part II\n",
    "\n",
    "Now, instead of calculating the difference between the max and min, the goal is to find the only two numbers in each row where one evenly divides the other - that is, where the result of the division operation is a whole number. Find those numbers on each line, divide them, and add up each line's result.\n",
    "\n",
    "**Example:**\n",
    "```\n",
    "5 9 2 8\n",
    "9 4 7 3\n",
    "3 8 6 5\n",
    "```\n",
    "The checksum is `4 + 3 + 2 = 9`."
   ]
  },
  {
   "cell_type": "code",
   "execution_count": 5,
   "metadata": {},
   "outputs": [
    {
     "data": {
      "text/plain": [
       "267"
      ]
     },
     "execution_count": 5,
     "metadata": {},
     "output_type": "execute_result"
    }
   ],
   "source": [
    "def calculate_division_checksum(spreadsheet):\n",
    "    total = 0\n",
    "    for row in spreadsheet:\n",
    "        total += [b // a for a, b in itertools.combinations(sorted(row), 2) if b % a == 0][0]\n",
    "    return total\n",
    "\n",
    "calculate_division_checksum(spreadsheet)"
   ]
  }
 ],
 "metadata": {
  "kernelspec": {
   "display_name": "Python 3",
   "language": "python",
   "name": "python3"
  },
  "language_info": {
   "codemirror_mode": {
    "name": "ipython",
    "version": 3
   },
   "file_extension": ".py",
   "mimetype": "text/x-python",
   "name": "python",
   "nbconvert_exporter": "python",
   "pygments_lexer": "ipython3",
   "version": "3.6.3"
  }
 },
 "nbformat": 4,
 "nbformat_minor": 2
}
